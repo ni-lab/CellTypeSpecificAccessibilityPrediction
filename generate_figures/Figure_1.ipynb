{
 "cells": [
  {
   "cell_type": "code",
   "execution_count": 13,
   "id": "995ce6d0",
   "metadata": {},
   "outputs": [],
   "source": [
    "import sys\n",
    "sys.path.append(\"..\")\n",
    "\n",
    "import numpy as np\n",
    "import pandas as pd\n",
    "import h5py\n",
    "import matplotlib.pyplot as plt\n",
    "from basenji import dataset, dataset_float32\n",
    "from utils.call_peaks import call_peaks"
   ]
  },
  {
   "cell_type": "markdown",
   "id": "5c428407",
   "metadata": {},
   "source": [
    "### Histograms of peak in number of cell types for each dataset\n",
    "1. Enformer \n",
    "2. Sei\n",
    "3. Loeb et al.\n",
    "4. Calderon et al."
   ]
  },
  {
   "cell_type": "code",
   "execution_count": 14,
   "id": "09c8fac6",
   "metadata": {},
   "outputs": [],
   "source": [
    "root_dir = \"/clusterfs/nilah/pooja\"\n",
    "fig_dir = f\"{root_dir}/CellTypeSpecificAccessibilityPrediction/figures/fig1\""
   ]
  },
  {
   "cell_type": "markdown",
   "id": "f9a63b21",
   "metadata": {},
   "source": [
    "1. Enformer"
   ]
  },
  {
   "cell_type": "code",
   "execution_count": 8,
   "id": "dd24ef08",
   "metadata": {},
   "outputs": [],
   "source": [
    "data_dir = \"/clusterfs/nilah/richard/basenji2/data_pretrained_basenji2/human\"\n",
    "human_targets = pd.read_csv(f\"{data_dir}/targets.txt\", sep=\"\\t\", index_col=0)\n",
    "dnase_atac_targets = np.where([(\"DNASE\" in i) or (\"ATAC\" in i) for i in human_targets[\"description\"]])[0]\n",
    "\n",
    "eval_data = dataset.SeqDataset(data_dir,\n",
    "    split_label=\"test\",\n",
    "    batch_size=4,\n",
    "    mode='eval',\n",
    "    tfr_pattern=None)\n",
    "\n",
    "targets = eval_data.numpy(return_inputs=False, return_outputs=True)\n",
    "ds_indexes = np.arange(0, targets.shape[1], 8)\n",
    "test_targets_dnase = targets[:, ds_indexes, :]\n",
    "test_targets_dnase = test_targets_dnase[:, :, dnase_atac_targets].reshape(-1,len(dnase_atac_targets))\n",
    "peak_in_num_cell_types = call_peaks(test_targets_dnase)"
   ]
  },
  {
   "cell_type": "code",
   "execution_count": 10,
   "id": "13e5ea17",
   "metadata": {},
   "outputs": [
    {
     "data": {
      "image/png": "[encoded data removed]",
      "text/plain": [
       "<Figure size 432x288 with 1 Axes>"
      ]
     },
     "metadata": {
      "needs_background": "light"
     },
     "output_type": "display_data"
    }
   ],
   "source": [
    "plt.hist(peak_in_num_cell_types[np.where(peak_in_num_cell_types >= 1)[0]], \n",
    "         bins=np.arange(0, 700, 20), log=True)\n",
    "plt.xlabel(\"Number of cell types containing a chromatin accessibility peak\")\n",
    "plt.ylabel(\"Number of test set sequences\")\n",
    "plt.savefig(f\"{fig_dir}/enformer_peak_distribution.pdf\", dpi=300)"
   ]
  },
  {
   "cell_type": "markdown",
   "id": "769c25aa",
   "metadata": {},
   "source": [
    "2. Sei"
   ]
  },
  {
   "cell_type": "code",
   "execution_count": 14,
   "id": "d3de3eb6",
   "metadata": {},
   "outputs": [
    {
     "name": "stderr",
     "output_type": "stream",
     "text": [
      "/global/software/sl-7.x86_64/modules/langs/python/3.7/lib/python3.7/site-packages/IPython/kernel/__main__.py:8: H5pyDeprecationWarning: dataset.value has been deprecated. Use dataset[()] instead.\n"
     ]
    }
   ],
   "source": [
    "data_dir = \"/global/scratch/users/poojakathail/sei\"\n",
    "sei_profiles = np.load(f'{data_dir}/sei-framework/resources/sei_profiles.npy')\n",
    "sei_profiles = np.array([i.split(\"|\")[1].strip() for i in sei_profiles])\n",
    "dnase_atac_targets = np.union1d(np.where(sei_profiles == \"DNase\")[0],\n",
    "                                np.where(sei_profiles == \"ATAC-seq\")[0])\n",
    "\n",
    "test_predictions = h5py.File(f'{data_dir}/performance_curves/sei_data/test_predictions.h5','r')\n",
    "targets = test_predictions['targets'].value\n",
    "targets = targets[:, dnase_atac_targets]\n",
    "peak_in_num_cell_types = targets.sum(axis=1)"
   ]
  },
  {
   "cell_type": "code",
   "execution_count": 16,
   "id": "20bc5ea0",
   "metadata": {},
   "outputs": [
    {
     "data": {
      "image/png": "[encoded data removed]",
      "text/plain": [
       "<Figure size 432x288 with 1 Axes>"
      ]
     },
     "metadata": {
      "needs_background": "light"
     },
     "output_type": "display_data"
    }
   ],
   "source": [
    "plt.hist(peak_in_num_cell_types[np.where(peak_in_num_cell_types >= 1)[0]], \n",
    "         bins=np.arange(0, 2300, 100), log=True)\n",
    "plt.xlabel(\"Number of cell types containing a chromatin accessibility peak\")\n",
    "plt.ylabel(\"Number of test set sequences\")\n",
    "plt.savefig(f\"{fig_dir}/sei_peak_distribution.pdf\", dpi=300)"
   ]
  },
  {
   "cell_type": "markdown",
   "id": "06a1ce80",
   "metadata": {},
   "source": [
    "3. Loeb et al"
   ]
  },
  {
   "cell_type": "code",
   "execution_count": 5,
   "id": "127a7734",
   "metadata": {},
   "outputs": [],
   "source": [
    "data_dir = f\"{root_dir}/kidney_data/kidney_sc_data_processed_bigwigs_holdout_chrs\"\n",
    "\n",
    "eval_data = dataset.SeqDataset(data_dir,\n",
    "    split_label=\"test\",\n",
    "    batch_size=4,\n",
    "    mode='eval',\n",
    "    tfr_pattern=None)\n",
    "\n",
    "targets = eval_data.numpy(return_inputs=False, return_outputs=True)\n",
    "targets = targets[:, 0, :]\n",
    "peak_in_num_cell_types = call_peaks(targets)"
   ]
  },
  {
   "cell_type": "code",
   "execution_count": 10,
   "id": "94a8dc4c",
   "metadata": {},
   "outputs": [
    {
     "data": {
      "image/png": "[encoded data removed]",
      "text/plain": [
       "<Figure size 432x288 with 1 Axes>"
      ]
     },
     "metadata": {
      "needs_background": "light"
     },
     "output_type": "display_data"
    }
   ],
   "source": [
    "plt.hist(peak_in_num_cell_types[np.where(peak_in_num_cell_types >= 1)[0]], log=True)\n",
    "plt.xlabel(\"Number of cell types containing a chromatin accessibility peak\")\n",
    "plt.ylabel(\"Number of test set sequences\")\n",
    "plt.ylim(10**4, 10**6)\n",
    "plt.tight_layout()\n",
    "plt.savefig(f\"{fig_dir}/loeb_et_al_peak_distribution.pdf\", dpi=300)"
   ]
  },
  {
   "cell_type": "markdown",
   "id": "1c0fc79a",
   "metadata": {},
   "source": [
    "4. Calderon et al"
   ]
  },
  {
   "cell_type": "code",
   "execution_count": 15,
   "id": "bd619b4f",
   "metadata": {},
   "outputs": [],
   "source": [
    "data_dir = f\"{root_dir}/immune_atlas/all_sequences_processed_float32\"\n",
    "\n",
    "eval_data = dataset_float32.SeqDataset(data_dir,\n",
    "    split_label=\"test\",\n",
    "    batch_size=4,\n",
    "    mode='eval',\n",
    "    tfr_pattern=None)\n",
    "\n",
    "targets = eval_data.numpy(return_inputs=False, return_outputs=True)\n",
    "targets = targets[:, 0, :]\n",
    "peak_in_num_cell_types = call_peaks(targets)"
   ]
  },
  {
   "cell_type": "code",
   "execution_count": 21,
   "id": "5fbcbb47",
   "metadata": {},
   "outputs": [
    {
     "data": {
      "image/png": "[encoded data removed]",
      "text/plain": [
       "<Figure size 432x288 with 1 Axes>"
      ]
     },
     "metadata": {
      "needs_background": "light"
     },
     "output_type": "display_data"
    }
   ],
   "source": [
    "plt.hist(peak_in_num_cell_types[np.where(peak_in_num_cell_types >= 1)[0]], log=True)\n",
    "plt.xlabel(\"Number of cell types containing a chromatin accessibility peak\")\n",
    "plt.ylabel(\"Number of test set sequences\")\n",
    "plt.ylim(10**4.5, 10**6)\n",
    "plt.tight_layout()\n",
    "plt.savefig(f\"{fig_dir}/calderon_et_al_peak_distribution_2.pdf\", dpi=300)"
   ]
  }
 ],
 "metadata": {
  "kernelspec": {
   "display_name": "Python3.7 TF-2.1.0",
   "language": "python",
   "name": "python3.7-tf2.1"
  },
  "language_info": {
   "codemirror_mode": {
    "name": "ipython",
    "version": 3
   },
   "file_extension": ".py",
   "mimetype": "text/x-python",
   "name": "python",
   "nbconvert_exporter": "python",
   "pygments_lexer": "ipython3",
   "version": "3.7.4"
  }
 },
 "nbformat": 4,
 "nbformat_minor": 5
}
