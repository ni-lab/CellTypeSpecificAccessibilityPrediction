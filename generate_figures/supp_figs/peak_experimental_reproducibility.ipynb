{
 "cells": [
  {
   "cell_type": "code",
   "execution_count": 1,
   "id": "dfb367fc-da23-408f-9024-fc4ec5927534",
   "metadata": {},
   "outputs": [],
   "source": [
    "%load_ext autoreload\n",
    "%autoreload 2"
   ]
  },
  {
   "cell_type": "code",
   "execution_count": 2,
   "id": "8284b887-0939-4c31-999e-f43fd1283229",
   "metadata": {},
   "outputs": [],
   "source": [
    "import os\n",
    "import sys\n",
    "sys.path.append(\"../..\")\n",
    "\n",
    "import numpy as np\n",
    "import pandas as pd\n",
    "import h5py\n",
    "from scipy import stats\n",
    "import matplotlib.pyplot as plt\n",
    "import seaborn as sns\n",
    "from tqdm import tqdm\n",
    "import pyBigWig\n",
    "\n",
    "from basenji import dataset\n",
    "from utils.call_peaks import call_peaks"
   ]
  },
  {
   "cell_type": "code",
   "execution_count": 3,
   "id": "7cd8837b-1618-4582-ae60-b75dd8ec70d3",
   "metadata": {},
   "outputs": [],
   "source": [
    "root_dir = \"/clusterfs/nilah/pooja\"\n",
    "fig_dir = f\"{root_dir}/CellTypeSpecificAccessibilityPrediction/figures\""
   ]
  },
  {
   "cell_type": "code",
   "execution_count": 4,
   "id": "4ccdfb4a-f99d-411b-8d1d-70174f23f27f",
   "metadata": {},
   "outputs": [],
   "source": [
    "data_dir = \"/clusterfs/nilah/richard/basenji2/data_pretrained_basenji2/human\"\n",
    "bigwig_dir = \"/global/scratch/users/poojakathail/enformer/peak_experimental_reproducibility/encode_bigwigs\"\n",
    "\n",
    "human_targets = pd.read_csv(f\"{data_dir}/targets.txt\", sep=\"\\t\", index_col=0)\n",
    "dnase_atac_targets = np.where([(\"DNASE\" in i) or (\"ATAC\" in i) \n",
    "                               for i in human_targets[\"description\"]])[0]"
   ]
  },
  {
   "cell_type": "code",
   "execution_count": 27,
   "id": "5bf2400f-081e-4464-be3e-8a0ea92c927c",
   "metadata": {},
   "outputs": [],
   "source": [
    "sequences = pd.read_csv(f\"{data_dir}/sequences.bed\", sep=\"\\t\",\n",
    "                        names=[\"chr\", \"start\", \"end\", \"fold\"])\n",
    "sequences = sequences[sequences[\"fold\"] == \"test\"]\n",
    "sequences[\"bins\"] = sequences.apply(lambda x: np.array([(x.chr, x.start + 8192 + (128*i), x.start + 8192 + (128*(i+1))) for i in range(896)]), axis=1)\n",
    "sequence_bins = np.stack(sequences[\"bins\"].values)                                              "
   ]
  },
  {
   "cell_type": "code",
   "execution_count": 28,
   "id": "f49f3c22-fb13-40eb-bf73-fbf4717aa56d",
   "metadata": {},
   "outputs": [],
   "source": [
    "corrs = pd.read_csv(f\"{fig_dir}/fig2/enformer_reference_accuracy_cell_type_specific_bins.csv\",\n",
    "                    index_col=0)\n",
    "num_peaks = pd.read_csv(f\"{fig_dir}/fig2/enformer_num_peaks_in_cell_type_specific_bins.csv\",\n",
    "                        index_col=0)\n",
    "\n",
    "targets_with_most_peaks = num_peaks.min(axis=1).sort_values(ascending=False)[:20].index.values\n",
    "# only kept one ATAC track (681, but can't find raw data)\n",
    "# removed 183,529,19,402 bc not isogenic replicates\n",
    "# removed 625 bc its archived and can't find the bigwigs on ENCODE website\n",
    "\n",
    "selected_targets = [135,144,79,112,96] "
   ]
  },
  {
   "cell_type": "code",
   "execution_count": 29,
   "id": "85286678-797e-43e2-88cd-a0dc79144e5f",
   "metadata": {},
   "outputs": [],
   "source": [
    "# read in targets\n",
    "eval_data = dataset.SeqDataset(data_dir,\n",
    "    split_label=\"test\",\n",
    "    batch_size=4,\n",
    "    mode='eval',\n",
    "    tfr_pattern=None,\n",
    "    float_type=\"float16\")\n",
    "targets = eval_data.numpy(return_inputs=False, return_outputs=True)\n",
    "\n",
    "test_targets_dnase_ds = targets[:, :, dnase_atac_targets].reshape(-1,len(dnase_atac_targets))\n",
    "sequence_bins_ds = sequence_bins.reshape(-1, 3)\n",
    "assert test_targets_dnase_ds.shape[0] == sequence_bins_ds.shape[0]"
   ]
  },
  {
   "cell_type": "code",
   "execution_count": 30,
   "id": "a09ed827-e8bb-4191-be22-f5f3becb61de",
   "metadata": {},
   "outputs": [],
   "source": [
    "if not os.path.exists(f\"{bigwig_dir}/ti_{selected_targets[0]}_peak_targets.h5\"):\n",
    "    print(\"calling peaks..\")\n",
    "    test_targets_dnase_ds_peaks = call_peaks(test_targets_dnase_ds, return_full=True)\n",
    "    peak_in_num_cell_types = test_targets_dnase_ds_peaks.sum(axis=1)\n",
    "\n",
    "    bins = [(1, 10), (10, 50), (50, 100), \n",
    "            (100, 300), (300, 685)]\n",
    "    \n",
    "    # save bin indices for each target\n",
    "    for ti in tqdm(selected_targets):\n",
    "        target_inds_h5 = h5py.File(f\"{bigwig_dir}/ti_{ti}_peak_targets.h5\", 'w')\n",
    "\n",
    "        for (bin_min, bin_max) in bins:   \n",
    "            bin_inds = np.where((test_targets_dnase_ds_peaks[:,ti] == True) &\n",
    "                                (test_targets_dnase_ds_peaks.sum(axis=1) >= bin_min) &\n",
    "                                (test_targets_dnase_ds_peaks.sum(axis=1) < bin_max))[0]\n",
    "            target_inds_h5.create_dataset(f'{bin_min}-{bin_max}', data=bin_inds, dtype='int', compression='gzip')\n",
    "        target_inds_h5.close()\n",
    "else:\n",
    "    target_inds = {}\n",
    "    for ti in selected_targets:\n",
    "        target_inds[ti] = h5py.File(f\"{bigwig_dir}/ti_{ti}_peak_targets.h5\", 'r')"
   ]
  },
  {
   "cell_type": "code",
   "execution_count": 74,
   "id": "1ff0c93b-37b1-4e96-85ee-5eedf8b81ed6",
   "metadata": {
    "scrolled": true,
    "tags": []
   },
   "outputs": [
    {
     "name": "stdout",
     "output_type": "stream",
     "text": [
      "python /global/home/users/poojakathail/basenji/bin/basenji_data_read.py --clip_soft 32 -s 2 -b /clusterfs/nilah/pooja/genomes/hg38.blacklist.rep.bed --crop 8192 -u mean -w 128 /global/scratch/users/poojakathail/enformer/peak_experimental_reproducibility/encode_bigwigs/ti_135/ENCFF241ZSS.bigWig /clusterfs/nilah/richard/basenji2/data_pretrained_basenji2/human/sequences.bed /global/scratch/users/poojakathail/enformer/peak_experimental_reproducibility/encode_bigwigs/ti_135/ENCFF241ZSS.h5\n",
      "python /global/home/users/poojakathail/basenji/bin/basenji_data_read.py --clip_soft 32 -s 2 -b /clusterfs/nilah/pooja/genomes/hg38.blacklist.rep.bed --crop 8192 -u mean -w 128 /global/scratch/users/poojakathail/enformer/peak_experimental_reproducibility/encode_bigwigs/ti_135/ENCFF302JEV.bigWig /clusterfs/nilah/richard/basenji2/data_pretrained_basenji2/human/sequences.bed /global/scratch/users/poojakathail/enformer/peak_experimental_reproducibility/encode_bigwigs/ti_135/ENCFF302JEV.h5\n",
      "python /global/home/users/poojakathail/basenji/bin/basenji_data_read.py --clip_soft 32 -s 2 -b /clusterfs/nilah/pooja/genomes/hg38.blacklist.rep.bed --crop 8192 -u mean -w 128 /global/scratch/users/poojakathail/enformer/peak_experimental_reproducibility/encode_bigwigs/ti_144/ENCFF524NIB.bigWig /clusterfs/nilah/richard/basenji2/data_pretrained_basenji2/human/sequences.bed /global/scratch/users/poojakathail/enformer/peak_experimental_reproducibility/encode_bigwigs/ti_144/ENCFF524NIB.h5\n",
      "python /global/home/users/poojakathail/basenji/bin/basenji_data_read.py --clip_soft 32 -s 2 -b /clusterfs/nilah/pooja/genomes/hg38.blacklist.rep.bed --crop 8192 -u mean -w 128 /global/scratch/users/poojakathail/enformer/peak_experimental_reproducibility/encode_bigwigs/ti_144/ENCFF827VFY.bigWig /clusterfs/nilah/richard/basenji2/data_pretrained_basenji2/human/sequences.bed /global/scratch/users/poojakathail/enformer/peak_experimental_reproducibility/encode_bigwigs/ti_144/ENCFF827VFY.h5\n",
      "python /global/home/users/poojakathail/basenji/bin/basenji_data_read.py --clip_soft 32 -s 2 -b /clusterfs/nilah/pooja/genomes/hg38.blacklist.rep.bed --crop 8192 -u mean -w 128 /global/scratch/users/poojakathail/enformer/peak_experimental_reproducibility/encode_bigwigs/ti_79/ENCFF102UQK.bigWig /clusterfs/nilah/richard/basenji2/data_pretrained_basenji2/human/sequences.bed /global/scratch/users/poojakathail/enformer/peak_experimental_reproducibility/encode_bigwigs/ti_79/ENCFF102UQK.h5\n",
      "python /global/home/users/poojakathail/basenji/bin/basenji_data_read.py --clip_soft 32 -s 2 -b /clusterfs/nilah/pooja/genomes/hg38.blacklist.rep.bed --crop 8192 -u mean -w 128 /global/scratch/users/poojakathail/enformer/peak_experimental_reproducibility/encode_bigwigs/ti_79/ENCFF492TUE.bigWig /clusterfs/nilah/richard/basenji2/data_pretrained_basenji2/human/sequences.bed /global/scratch/users/poojakathail/enformer/peak_experimental_reproducibility/encode_bigwigs/ti_79/ENCFF492TUE.h5\n",
      "python /global/home/users/poojakathail/basenji/bin/basenji_data_read.py --clip_soft 32 -s 2 -b /clusterfs/nilah/pooja/genomes/hg38.blacklist.rep.bed --crop 8192 -u mean -w 128 /global/scratch/users/poojakathail/enformer/peak_experimental_reproducibility/encode_bigwigs/ti_112/ENCFF064VXK.bigWig /clusterfs/nilah/richard/basenji2/data_pretrained_basenji2/human/sequences.bed /global/scratch/users/poojakathail/enformer/peak_experimental_reproducibility/encode_bigwigs/ti_112/ENCFF064VXK.h5\n",
      "python /global/home/users/poojakathail/basenji/bin/basenji_data_read.py --clip_soft 32 -s 2 -b /clusterfs/nilah/pooja/genomes/hg38.blacklist.rep.bed --crop 8192 -u mean -w 128 /global/scratch/users/poojakathail/enformer/peak_experimental_reproducibility/encode_bigwigs/ti_112/ENCFF457RRO.bigWig /clusterfs/nilah/richard/basenji2/data_pretrained_basenji2/human/sequences.bed /global/scratch/users/poojakathail/enformer/peak_experimental_reproducibility/encode_bigwigs/ti_112/ENCFF457RRO.h5\n",
      "python /global/home/users/poojakathail/basenji/bin/basenji_data_read.py --clip_soft 32 -s 2 -b /clusterfs/nilah/pooja/genomes/hg38.blacklist.rep.bed --crop 8192 -u mean -w 128 /global/scratch/users/poojakathail/enformer/peak_experimental_reproducibility/encode_bigwigs/ti_402/ENCFF713HOQ.bigWig /clusterfs/nilah/richard/basenji2/data_pretrained_basenji2/human/sequences.bed /global/scratch/users/poojakathail/enformer/peak_experimental_reproducibility/encode_bigwigs/ti_402/ENCFF713HOQ.h5\n",
      "python /global/home/users/poojakathail/basenji/bin/basenji_data_read.py --clip_soft 32 -s 2 -b /clusterfs/nilah/pooja/genomes/hg38.blacklist.rep.bed --crop 8192 -u mean -w 128 /global/scratch/users/poojakathail/enformer/peak_experimental_reproducibility/encode_bigwigs/ti_402/ENCFF773NZF.bigWig /clusterfs/nilah/richard/basenji2/data_pretrained_basenji2/human/sequences.bed /global/scratch/users/poojakathail/enformer/peak_experimental_reproducibility/encode_bigwigs/ti_402/ENCFF773NZF.h5\n",
      "python /global/home/users/poojakathail/basenji/bin/basenji_data_read.py --clip_soft 32 -s 2 -b /clusterfs/nilah/pooja/genomes/hg38.blacklist.rep.bed --crop 8192 -u mean -w 128 /global/scratch/users/poojakathail/enformer/peak_experimental_reproducibility/encode_bigwigs/ti_96/ENCFF089MHS.bigWig /clusterfs/nilah/richard/basenji2/data_pretrained_basenji2/human/sequences.bed /global/scratch/users/poojakathail/enformer/peak_experimental_reproducibility/encode_bigwigs/ti_96/ENCFF089MHS.h5\n",
      "python /global/home/users/poojakathail/basenji/bin/basenji_data_read.py --clip_soft 32 -s 2 -b /clusterfs/nilah/pooja/genomes/hg38.blacklist.rep.bed --crop 8192 -u mean -w 128 /global/scratch/users/poojakathail/enformer/peak_experimental_reproducibility/encode_bigwigs/ti_96/ENCFF634ZUJ.bigWig /clusterfs/nilah/richard/basenji2/data_pretrained_basenji2/human/sequences.bed /global/scratch/users/poojakathail/enformer/peak_experimental_reproducibility/encode_bigwigs/ti_96/ENCFF634ZUJ.h5\n"
     ]
    }
   ],
   "source": [
    "%%bash\n",
    "\n",
    "export BASENJIDIR=/global/home/users/poojakathail/basenji\n",
    "export PATH=$BASENJIDIR/bin:$PATH\n",
    "export PYTHONPATH=$BASENJIDIR/bin:$PYTHONPATH\n",
    "\n",
    "bigwig_dir=\"/global/scratch/users/poojakathail/enformer/peak_experimental_reproducibility/encode_bigwigs\"\n",
    "blacklist_bed=\"/clusterfs/nilah/pooja/genomes/hg38.blacklist.rep.bed\"\n",
    "seq_bed=\"/clusterfs/nilah/richard/basenji2/data_pretrained_basenji2/human/sequences.bed\"\n",
    "\n",
    "for ti in 135 144 79 112 96;\n",
    "do\n",
    "    for encode_id in `ls -1 ${bigwig_dir}/ti_${ti}/*.bigWig | cut -d '/' -f 10 | cut -d '.' -f 1`;\n",
    "    do\n",
    "        bigwig_file=\"${bigwig_dir}/ti_${ti}/${encode_id}.bigWig\"\n",
    "        h5_out=\"${bigwig_dir}/ti_${ti}/${encode_id}.h5\"\n",
    "        echo \"python /global/home/users/poojakathail/basenji/bin/basenji_data_read.py --clip_soft 32 -s 2 -b ${blacklist_bed} --crop 8192 -u mean -w 128 ${bigwig_file} ${seq_bed} ${h5_out}\"\n",
    "    done\n",
    "done"
   ]
  },
  {
   "cell_type": "code",
   "execution_count": 31,
   "id": "d04caf51-1af6-43f2-8611-bf22d41f3d2f",
   "metadata": {},
   "outputs": [],
   "source": [
    "peak_experimental_reproducibility_df = pd.DataFrame([])\n",
    "\n",
    "for ti in selected_targets:\n",
    "    encode_ids = os.listdir(f\"{bigwig_dir}/ti_{ti}\")\n",
    "    encode_ids = np.unique([f.split(\".\")[0] for f in encode_ids])\n",
    "    for encode_id in encode_ids:\n",
    "        h5_file = f\"{bigwig_dir}/ti_{ti}/{encode_id}.h5\"\n",
    "        targets_h5 = h5py.File(h5_file, \"r\")\n",
    "        bigwig_targets = targets_h5[\"targets\"][sequences.index.values,:].reshape(-1).astype(np.float16)\n",
    "        bigwig_targets_peaks = call_peaks(bigwig_targets.reshape(-1,1), return_full=True).flatten()\n",
    "        \n",
    "        \n",
    "        for bin_ in target_inds[ti].keys():\n",
    "            bin_formatted = f\"({bin_.split('-')[0]}, {bin_.split('-')[1]})\"\n",
    "            bin_targets = target_inds[ti][bin_][:]            \n",
    "            proportion_replicating_peaks = bigwig_targets_peaks[bin_targets].sum()/len(bin_targets)\n",
    "\n",
    "            peak_experimental_reproducibility_df = peak_experimental_reproducibility_df.append(\n",
    "                {\"Target index\": ti,\n",
    "                 \"ENCODE ID\": encode_id,\n",
    "                 \"Data type\": \"Enformer training data\" if encode_id == human_targets.loc[ti, \"identifier\"] else \"Isogenic replicate\",\n",
    "                 \"Bin\": bin_formatted,\n",
    "                 \"Proportion replicating peaks\": proportion_replicating_peaks,\n",
    "                 \"Pearson R\": stats.pearsonr(test_targets_dnase_ds[bin_targets,ti], \n",
    "                                             bigwig_targets[bin_targets])[0]},\n",
    "                ignore_index=True)"
   ]
  },
  {
   "cell_type": "code",
   "execution_count": 32,
   "id": "0591e797-390b-4bc4-93ea-e272e669d12f",
   "metadata": {},
   "outputs": [],
   "source": [
    "tmp_df = pd.melt(corrs.loc[selected_targets], var_name=\"Bin\", value_name=\"Pearson R\")\n",
    "tmp_df[\"Data type\"] = \"Enformer predictions\"\n",
    "peak_experimental_reproducibility_df = pd.concat([peak_experimental_reproducibility_df, tmp_df])"
   ]
  },
  {
   "cell_type": "code",
   "execution_count": 37,
   "id": "8eb9bedd-f18a-4d3d-ba50-16025541ce33",
   "metadata": {},
   "outputs": [
    {
     "data": {
      "image/png": "[encoded data removed]",
      "text/plain": [
       "<Figure size 432x288 with 1 Axes>"
      ]
     },
     "metadata": {
      "needs_background": "light"
     },
     "output_type": "display_data"
    }
   ],
   "source": [
    "sns.boxplot(data=peak_experimental_reproducibility_df, \n",
    "            x=\"Bin\", y=\"Pearson R\", hue=\"Data type\", \n",
    "            hue_order=[\"Enformer predictions\", \"Isogenic replicate\"],\n",
    "            order=[\"(1, 10)\", \"(10, 50)\", \"(50, 100)\", \"(100, 300)\", \"(300, 685)\"],)\n",
    "plt.ylabel(\"Pearson R\", fontsize=12)\n",
    "plt.xlabel(\"Cell type specificity bin\", fontsize=12)\n",
    "_, _ = plt.xticks(np.arange(5), [\"1-10\", \"10-50\", \"50-100\", \"100-300\", \"300-685\"])\n",
    "plt.legend()\n",
    "plt.savefig(f\"{fig_dir}/supp_figs/enformer_prediction_replicate_comparison.pdf\", dpi=300)"
   ]
  }
 ],
 "metadata": {
  "kernelspec": {
   "display_name": "Python3.7 TF-2.1.0",
   "language": "python",
   "name": "python3.7-tf2.1"
  },
  "language_info": {
   "codemirror_mode": {
    "name": "ipython",
    "version": 3
   },
   "file_extension": ".py",
   "mimetype": "text/x-python",
   "name": "python",
   "nbconvert_exporter": "python",
   "pygments_lexer": "ipython3",
   "version": "3.7.4"
  }
 },
 "nbformat": 4,
 "nbformat_minor": 5
}
