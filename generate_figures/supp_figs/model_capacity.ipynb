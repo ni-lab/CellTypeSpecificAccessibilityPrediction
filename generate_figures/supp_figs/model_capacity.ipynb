{
 "cells": [
  {
   "cell_type": "code",
   "execution_count": 1,
   "id": "3450149c-1713-4721-bd91-ddc12ec4f644",
   "metadata": {},
   "outputs": [],
   "source": [
    "%load_ext autoreload\n",
    "%autoreload 2"
   ]
  },
  {
   "cell_type": "code",
   "execution_count": 2,
   "id": "15726aff-18c0-404e-b89e-d64f2133b303",
   "metadata": {},
   "outputs": [],
   "source": [
    "import sys\n",
    "sys.path.append(\"../..\")\n",
    "\n",
    "import numpy as np\n",
    "import pandas as pd\n",
    "import matplotlib.pyplot as plt\n",
    "import seaborn as sns\n",
    "\n",
    "import json\n",
    "from basenji import seqnn\n",
    "\n",
    "from utils.evaluate_basset_performance import *"
   ]
  },
  {
   "cell_type": "code",
   "execution_count": 3,
   "id": "eb7ffe43-982d-46c3-a5f1-876e34a602a2",
   "metadata": {},
   "outputs": [],
   "source": [
    "params_dir = \"/clusterfs/nilah/pooja/kidney_data/models\""
   ]
  },
  {
   "cell_type": "code",
   "execution_count": 19,
   "id": "41702880-8ac9-469f-baff-c24f06f63f4a",
   "metadata": {},
   "outputs": [
    {
     "name": "stdout",
     "output_type": "stream",
     "text": [
      "Submitted batch job 16763239\n"
     ]
    }
   ],
   "source": [
    "%%bash\n",
    "\n",
    "script_dir=\"/clusterfs/nilah/pooja/batch_scripts/train\"\n",
    "\n",
    "for model in 2x_params_more_layers 2x_params_same_layers 4x_params_same_layers 8x_params_same_layers;\n",
    "do\n",
    "    cp ${script_dir}/train_multi_gpu_template.sh ${script_dir}/train_kidney_data_multitask_${model}.sh\n",
    "    echo \"python /global/home/users/poojakathail/basenji/bin/basenji_train.py -k -o /clusterfs/nilah/pooja/kidney_data/train/replicate_models/train__multitask_${model}__all_sequences__1/done.txt --float-type float16 /clusterfs/nilah/pooja/kidney_data/models/params_sc_kidney_regression_multitask_${model}.json /clusterfs/nilah/pooja/kidney_data/kidney_sc_data_processed_bigwigs_holdout_chrs\" >> ${script_dir}/train_kidney_data_multitask_${model}.sh\n",
    "    sbatch ${script_dir}/train_kidney_data_multitask_${model}.sh\n",
    "done"
   ]
  },
  {
   "cell_type": "code",
   "execution_count": 20,
   "id": "9375aa17-89af-453e-8a8d-dec8aee4518f",
   "metadata": {},
   "outputs": [
    {
     "name": "stdout",
     "output_type": "stream",
     "text": [
      "Submitted batch job 16763245\n"
     ]
    }
   ],
   "source": [
    "%%bash\n",
    "\n",
    "script_dir=\"/clusterfs/nilah/pooja/batch_scripts/train\"\n",
    "\n",
    "for model in 2x_params_more_layers 2x_params_same_layers 4x_params_same_layers 8x_params_same_layers;\n",
    "\n",
    "do\n",
    "    cp ${script_dir}/train_multi_gpu_template.sh ${script_dir}/train_immune_atlas_multitask_${model}.sh\n",
    "    echo \"python /global/home/users/poojakathail/basenji/bin/basenji_train.py -k -o /clusterfs/nilah/pooja/immune_atlas/train/replicate_models/train__multitask_${model}__all_sequences__1/done.txt --float-type float32 /clusterfs/nilah/pooja/immune_atlas/models/params_sc_kidney_regression_multitask_${model}.json /clusterfs/nilah/pooja/immune_atlas/all_sequences_processed_float32\" >> ${script_dir}/train_immune_atlas_multitask_${model}.sh\n",
    "    sbatch ${script_dir}/train_immune_atlas_multitask_${model}.sh\n",
    "done"
   ]
  },
  {
   "cell_type": "code",
   "execution_count": 2,
   "id": "733b560d-339b-4917-9b36-c268e3a3df9e",
   "metadata": {},
   "outputs": [
    {
     "name": "stdout",
     "output_type": "stream",
     "text": [
      "Submitted batch job 17496834\n",
      "Submitted batch job 17496835\n"
     ]
    }
   ],
   "source": [
    "%%bash\n",
    "\n",
    "script_dir=\"/clusterfs/nilah/pooja/batch_scripts/train\"\n",
    "\n",
    "model=\"8x_params_same_layers\"\n",
    "for rep in 2 3;\n",
    "do\n",
    "    cp ${script_dir}/train_multi_gpu_template.sh ${script_dir}/train_kidney_data_multitask_${model}_${rep}.sh\n",
    "    echo \"python /global/home/users/poojakathail/basenji/bin/basenji_train.py -k -o /clusterfs/nilah/pooja/kidney_data/train/replicate_models/train__multitask_${model}__all_sequences__${rep}/done.txt --float-type float16 /clusterfs/nilah/pooja/kidney_data/models/params_sc_kidney_regression_multitask_${model}.json /clusterfs/nilah/pooja/kidney_data/kidney_sc_data_processed_bigwigs_holdout_chrs\" >> ${script_dir}/train_kidney_data_multitask_${model}_${rep}.sh\n",
    "    sbatch ${script_dir}/train_kidney_data_multitask_${model}_${rep}.sh\n",
    "done"
   ]
  },
  {
   "cell_type": "code",
   "execution_count": 1,
   "id": "1a56b78b-179e-413d-ae41-dded150997eb",
   "metadata": {},
   "outputs": [
    {
     "name": "stdout",
     "output_type": "stream",
     "text": [
      "Submitted batch job 17496832\n",
      "Submitted batch job 17496833\n"
     ]
    }
   ],
   "source": [
    "%%bash\n",
    "\n",
    "script_dir=\"/clusterfs/nilah/pooja/batch_scripts/train\"\n",
    "\n",
    "model=\"8x_params_same_layers\"\n",
    "for rep in 2 3;\n",
    "do\n",
    "    cp ${script_dir}/train_multi_gpu_template.sh ${script_dir}/train_immune_atlas_multitask_${model}_${rep}.sh\n",
    "    echo \"python /global/home/users/poojakathail/basenji/bin/basenji_train.py -k -o /clusterfs/nilah/pooja/immune_atlas/train/replicate_models/train__multitask_${model}__all_sequences__${rep}/done.txt --float-type float32 /clusterfs/nilah/pooja/immune_atlas/models/params_sc_kidney_regression_multitask_${model}.json /clusterfs/nilah/pooja/immune_atlas/all_sequences_processed_float32\" >> ${script_dir}/train_immune_atlas_multitask_${model}_${rep}.sh\n",
    "    sbatch ${script_dir}/train_immune_atlas_multitask_${model}_${rep}.sh\n",
    "done"
   ]
  },
  {
   "cell_type": "code",
   "execution_count": 3,
   "id": "7176fc4f-ee15-48f9-a699-e68469da7eb5",
   "metadata": {},
   "outputs": [
    {
     "name": "stdout",
     "output_type": "stream",
     "text": [
      "Submitted batch job 16771309\n"
     ]
    }
   ],
   "source": [
    "%%bash\n",
    "\n",
    "script_dir=\"/clusterfs/nilah/pooja/batch_scripts/train\"\n",
    "\n",
    "cluster_dir=\"/clusterfs/nilah/pooja/kidney_data/CellTypeSpecificPeakClusters_ArchR_clust11\"\n",
    "cluster_list=\"all_sequences,cluster1_CD,cluster2_Immune,cluster3_Ubiquitous,cluster4_DistalNephron,cluster6_PanTubule,cluster7_Tcell,cluster8_PanNonEpithelial,cluster9_Stroma,cluster10_Endothelial,cluster11_PT,cluster12_podocyte\"\n",
    "genome=\"hg38\"\n",
    "targets=\"/clusterfs/nilah/pooja/kidney_data/targets.txt\"\n",
    "\n",
    "for model in 2x_params_more_layers 2x_params_same_layers 4x_params_same_layers 8x_params_same_layers;\n",
    "do\n",
    "    model_params=\"/clusterfs/nilah/pooja/kidney_data/models/params_sc_kidney_regression_multitask_${model}.json\"\n",
    "    model_dir=\"/clusterfs/nilah/pooja/kidney_data/train/replicate_models/train__multitask_${model}__all_sequences__1\"\n",
    "\n",
    "    cp ${script_dir}/train_immune_atlas_single_task_template.sh ${script_dir}/test_kidney_data_multitask_${model}.sh\n",
    "    echo \"/global/home/users/poojakathail/basenji/bin/basenji_predict_cluster_beds.sh $cluster_dir $cluster_list $genome $targets $model_params ${model_dir}/done.txt ${model_dir}/predict_beds/done_predict_beds.txt\" >> ${script_dir}/test_kidney_data_multitask_${model}.sh\n",
    "    echo \"python /global/home/users/poojakathail/basenji/bin/basenji_reference_accuracy_by_cluster.py -t $targets ${model_dir}/predict_beds/reference_accuracy_by_cluster.tsv ${cluster_dir}/model_predictions\" >> ${script_dir}/test_kidney_data_multitask_${model}.sh\n",
    "\n",
    "    sbatch ${script_dir}/test_kidney_data_multitask_${model}.sh\n",
    "done\n"
   ]
  },
  {
   "cell_type": "code",
   "execution_count": 4,
   "id": "8b4acd9a-a21e-4538-9132-54184e33e8aa",
   "metadata": {},
   "outputs": [
    {
     "name": "stdout",
     "output_type": "stream",
     "text": [
      "Submitted batch job 17514640\n",
      "Submitted batch job 17514641\n"
     ]
    }
   ],
   "source": [
    "%%bash\n",
    "\n",
    "script_dir=\"/clusterfs/nilah/pooja/batch_scripts/train\"\n",
    "\n",
    "cluster_dir=\"/clusterfs/nilah/pooja/kidney_data/CellTypeSpecificPeakClusters_ArchR_clust11\"\n",
    "cluster_list=\"all_sequences,cluster1_CD,cluster2_Immune,cluster3_Ubiquitous,cluster4_DistalNephron,cluster6_PanTubule,cluster7_Tcell,cluster8_PanNonEpithelial,cluster9_Stroma,cluster10_Endothelial,cluster11_PT,cluster12_podocyte\"\n",
    "genome=\"hg38\"\n",
    "targets=\"/clusterfs/nilah/pooja/kidney_data/targets.txt\"\n",
    "model=\"8x_params_same_layers\"\n",
    "\n",
    "for rep in 2 3;\n",
    "do\n",
    "    model_params=\"/clusterfs/nilah/pooja/kidney_data/models/params_sc_kidney_regression_multitask_${model}.json\"\n",
    "    model_dir=\"/clusterfs/nilah/pooja/kidney_data/train/replicate_models/train__multitask_${model}__all_sequences__${rep}\"\n",
    "\n",
    "    cp ${script_dir}/train_immune_atlas_single_task_template.sh ${script_dir}/test_kidney_data_multitask_${model}_${rep}.sh\n",
    "    echo \"/global/home/users/poojakathail/basenji/bin/basenji_predict_cluster_beds.sh $cluster_dir $cluster_list $genome $targets $model_params ${model_dir}/done.txt ${model_dir}/predict_beds/done_predict_beds.txt\" >> ${script_dir}/test_kidney_data_multitask_${model}_${rep}.sh\n",
    "    echo \"python /global/home/users/poojakathail/basenji/bin/basenji_reference_accuracy_by_cluster.py -t $targets ${model_dir}/predict_beds/reference_accuracy_by_cluster.tsv ${cluster_dir}/model_predictions\" >> ${script_dir}/test_kidney_data_multitask_${model}_${rep}.sh\n",
    "\n",
    "    sbatch ${script_dir}/test_kidney_data_multitask_${model}_${rep}.sh\n",
    "done\n"
   ]
  },
  {
   "cell_type": "code",
   "execution_count": 4,
   "id": "a6b454a7-ad60-4de6-b424-cb39f96e91ee",
   "metadata": {},
   "outputs": [
    {
     "name": "stdout",
     "output_type": "stream",
     "text": [
      "Submitted batch job 16771310\n"
     ]
    }
   ],
   "source": [
    "%%bash\n",
    "\n",
    "script_dir=\"/clusterfs/nilah/pooja/batch_scripts/train\"\n",
    "\n",
    "cluster_dir=\"/clusterfs/nilah/pooja/immune_atlas/CellTypeSpecificPeakClusters\"\n",
    "cluster_list=\"all_sequences,cluster_B_resting,cluster_EPI_resting,cluster_T_resting,cluster_myeloid_resting,cluster_nk_resting,cluster_open,cluster_progenitor_resting,cluster_thymo_resting\"\n",
    "genome=\"hg19\"\n",
    "targets=\"/clusterfs/nilah/pooja/immune_atlas/targets.txt\"\n",
    "\n",
    "for model in 2x_params_more_layers 2x_params_same_layers 4x_params_same_layers 8x_params_same_layers;\n",
    "do\n",
    "    model_params=\"/clusterfs/nilah/pooja/immune_atlas/models/params_sc_kidney_regression_multitask_${model}.json\"\n",
    "    model_dir=\"/clusterfs/nilah/pooja/immune_atlas/train/replicate_models/train__multitask_${model}__all_sequences__1\"\n",
    "\n",
    "    cp ${script_dir}/train_immune_atlas_single_task_template.sh ${script_dir}/test_immune_atlas_multitask_${model}.sh\n",
    "    echo \"/global/home/users/poojakathail/basenji/bin/basenji_predict_cluster_beds.sh $cluster_dir $cluster_list $genome $targets $model_params ${model_dir}/done.txt ${model_dir}/predict_beds/done_predict_beds.txt\" >> ${script_dir}/test_immune_atlas_multitask_${model}.sh\n",
    "    echo \"python /global/home/users/poojakathail/basenji/bin/basenji_reference_accuracy_by_cluster.py -t $targets ${model_dir}/predict_beds/reference_accuracy_by_cluster.tsv ${cluster_dir}/model_predictions\" >> ${script_dir}/test_immune_atlas_multitask_${model}.sh\n",
    "\n",
    "    sbatch ${script_dir}/test_immune_atlas_multitask_${model}.sh\n",
    "done\n"
   ]
  },
  {
   "cell_type": "code",
   "execution_count": 3,
   "id": "1f752ff2-d213-4fce-81ab-18f3c6527598",
   "metadata": {},
   "outputs": [
    {
     "name": "stdout",
     "output_type": "stream",
     "text": [
      "Submitted batch job 17514320\n",
      "Submitted batch job 17514321\n"
     ]
    }
   ],
   "source": [
    "%%bash\n",
    "\n",
    "script_dir=\"/clusterfs/nilah/pooja/batch_scripts/train\"\n",
    "\n",
    "cluster_dir=\"/clusterfs/nilah/pooja/immune_atlas/CellTypeSpecificPeakClusters\"\n",
    "cluster_list=\"all_sequences,cluster_B_resting,cluster_EPI_resting,cluster_T_resting,cluster_myeloid_resting,cluster_nk_resting,cluster_open,cluster_progenitor_resting,cluster_thymo_resting\"\n",
    "genome=\"hg19\"\n",
    "targets=\"/clusterfs/nilah/pooja/immune_atlas/targets.txt\"\n",
    "model=\"8x_params_same_layers\"\n",
    "for rep in 2 3;\n",
    "do\n",
    "    model_params=\"/clusterfs/nilah/pooja/immune_atlas/models/params_sc_kidney_regression_multitask_${model}.json\"\n",
    "    model_dir=\"/clusterfs/nilah/pooja/immune_atlas/train/replicate_models/train__multitask_${model}__all_sequences__${rep}\"\n",
    "\n",
    "    cp ${script_dir}/train_immune_atlas_single_task_template.sh ${script_dir}/test_immune_atlas_multitask_${model}_${rep}.sh\n",
    "    echo \"/global/home/users/poojakathail/basenji/bin/basenji_predict_cluster_beds.sh $cluster_dir $cluster_list $genome $targets $model_params ${model_dir}/done.txt ${model_dir}/predict_beds/done_predict_beds.txt\" >> ${script_dir}/test_immune_atlas_multitask_${model}_${rep}.sh\n",
    "    echo \"python /global/home/users/poojakathail/basenji/bin/basenji_reference_accuracy_by_cluster.py -t $targets ${model_dir}/predict_beds/reference_accuracy_by_cluster.tsv ${cluster_dir}/model_predictions\" >> ${script_dir}/test_immune_atlas_multitask_${model}_${rep}.sh\n",
    "\n",
    "    sbatch ${script_dir}/test_immune_atlas_multitask_${model}_${rep}.sh\n",
    "done\n"
   ]
  },
  {
   "cell_type": "code",
   "execution_count": 1,
   "id": "21d404d3-9377-4c07-abea-2b3fb2cdbac8",
   "metadata": {},
   "outputs": [
    {
     "name": "stdout",
     "output_type": "stream",
     "text": [
      "Submitted batch job 17390454\n",
      "Submitted batch job 17390455\n",
      "Submitted batch job 17390456\n",
      "Submitted batch job 17390457\n"
     ]
    }
   ],
   "source": [
    "%%bash\n",
    "\n",
    "script_dir=\"/clusterfs/nilah/pooja/batch_scripts/train\"\n",
    "\n",
    "imbalance_dir=\"/clusterfs/nilah/pooja/kidney_data/allelic_imbalance/raw/astestq10tab/cluster_imbalance_sets\"\n",
    "genome=\"hg38\"\n",
    "targets=\"/clusterfs/nilah/pooja/kidney_data/targets.txt\"\n",
    "\n",
    "for model in 2x_params_more_layers 2x_params_same_layers 4x_params_same_layers 8x_params_same_layers;\n",
    "do\n",
    "    model_params=\"/clusterfs/nilah/pooja/kidney_data/models/params_sc_kidney_regression_multitask_${model}.json\"\n",
    "    model_dir=\"/clusterfs/nilah/pooja/kidney_data/train/replicate_models/train__multitask_${model}__all_sequences__1\"\n",
    "\n",
    "    cp ${script_dir}/train_immune_atlas_single_task_template.sh ${script_dir}/test_kidney_data_multitask_${model}.sh\n",
    "    echo \"/global/home/users/poojakathail/basenji/bin/basenji_predict_allelic_imbalance.sh $imbalance_dir $genome $targets $model_params ${model_dir}/done.txt ${model_dir}/allelic_imbalance/done_allelic_imbalance.txt\" >> ${script_dir}/test_kidney_data_multitask_${model}.sh\n",
    "    echo \"python /global/home/users/poojakathail/basenji/bin/basenji_allelic_imbalance_by_cluster.py -t $targets -i ${imbalance_dir} ${model_dir}/allelic_imbalance/allelic_imbalance_by_cluster.xlsx\" >> ${script_dir}/test_kidney_data_multitask_${model}.sh\n",
    "\n",
    "    sbatch ${script_dir}/test_kidney_data_multitask_${model}.sh\n",
    "done"
   ]
  },
  {
   "cell_type": "code",
   "execution_count": 1,
   "id": "d066d948-78a4-4ef9-8e10-341e66e1bdeb",
   "metadata": {},
   "outputs": [
    {
     "name": "stdout",
     "output_type": "stream",
     "text": [
      "Submitted batch job 17513798\n",
      "Submitted batch job 17513799\n"
     ]
    }
   ],
   "source": [
    "%%bash\n",
    "\n",
    "script_dir=\"/clusterfs/nilah/pooja/batch_scripts/train\"\n",
    "\n",
    "imbalance_dir=\"/clusterfs/nilah/pooja/kidney_data/allelic_imbalance/raw/astestq10tab/cluster_imbalance_sets\"\n",
    "genome=\"hg38\"\n",
    "targets=\"/clusterfs/nilah/pooja/kidney_data/targets.txt\"\n",
    "model=\"8x_params_same_layers\"\n",
    "for rep in 2 3;\n",
    "do\n",
    "    model_params=\"/clusterfs/nilah/pooja/kidney_data/models/params_sc_kidney_regression_multitask_${model}.json\"\n",
    "    model_dir=\"/clusterfs/nilah/pooja/kidney_data/train/replicate_models/train__multitask_${model}__all_sequences__${rep}\"\n",
    "\n",
    "    cp ${script_dir}/train_immune_atlas_single_task_template.sh ${script_dir}/test_kidney_data_multitask_${model}_${rep}.sh\n",
    "    echo \"/global/home/users/poojakathail/basenji/bin/basenji_predict_allelic_imbalance.sh $imbalance_dir $genome $targets $model_params ${model_dir}/done.txt ${model_dir}/allelic_imbalance/done_allelic_imbalance.txt\" >> ${script_dir}/test_kidney_data_multitask_${model}_${rep}.sh\n",
    "    echo \"python /global/home/users/poojakathail/basenji/bin/basenji_allelic_imbalance_by_cluster.py -t $targets -i ${imbalance_dir} ${model_dir}/allelic_imbalance/allelic_imbalance_by_cluster.xlsx\" >> ${script_dir}/test_kidney_data_multitask_${model}_${rep}.sh\n",
    "\n",
    "    sbatch ${script_dir}/test_kidney_data_multitask_${model}_${rep}.sh\n",
    "done"
   ]
  },
  {
   "cell_type": "code",
   "execution_count": 2,
   "id": "b5b2a511-b9dc-43fc-b748-ea753b961a12",
   "metadata": {},
   "outputs": [
    {
     "name": "stdout",
     "output_type": "stream",
     "text": [
      "Submitted batch job 17390458\n",
      "Submitted batch job 17390459\n",
      "Submitted batch job 17390460\n",
      "Submitted batch job 17390461\n"
     ]
    }
   ],
   "source": [
    "%%bash\n",
    "\n",
    "script_dir=\"/clusterfs/nilah/pooja/batch_scripts/train\"\n",
    "\n",
    "imbalance_dir=\"/clusterfs/nilah/pooja/immune_atlas/allelic_imbalance/data/cluster_imbalance_sets\"\n",
    "genome=\"hg19\"\n",
    "targets=\"/clusterfs/nilah/pooja/immune_atlas/targets.txt\"\n",
    "\n",
    "for model in 2x_params_more_layers 2x_params_same_layers 4x_params_same_layers 8x_params_same_layers;\n",
    "do\n",
    "    model_params=\"/clusterfs/nilah/pooja/immune_atlas/models/params_sc_kidney_regression_multitask_${model}.json\"\n",
    "    model_dir=\"/clusterfs/nilah/pooja/immune_atlas/train/replicate_models/train__multitask_${model}__all_sequences__1\"\n",
    "\n",
    "    cp ${script_dir}/train_immune_atlas_single_task_template.sh ${script_dir}/test_immune_atlas_multitask_${model}.sh\n",
    "    echo \"/global/home/users/poojakathail/basenji/bin/basenji_predict_allelic_imbalance.sh $imbalance_dir $genome $targets $model_params ${model_dir}/done.txt ${model_dir}/allelic_imbalance/done_allelic_imbalance.txt\" >> ${script_dir}/test_immune_atlas_multitask_${model}.sh\n",
    "    echo \"python /global/home/users/poojakathail/basenji/bin/basenji_allelic_imbalance_by_cluster.py -t $targets -i ${imbalance_dir} ${model_dir}/allelic_imbalance/allelic_imbalance_by_cluster.xlsx\" >> ${script_dir}/test_immune_atlas_multitask_${model}.sh\n",
    "\n",
    "    sbatch ${script_dir}/test_immune_atlas_multitask_${model}.sh\n",
    "done"
   ]
  },
  {
   "cell_type": "code",
   "execution_count": 2,
   "id": "9155f94e-df29-4e07-bda7-2a0613ca3ab3",
   "metadata": {},
   "outputs": [
    {
     "name": "stdout",
     "output_type": "stream",
     "text": [
      "Submitted batch job 17513800\n",
      "Submitted batch job 17513801\n"
     ]
    }
   ],
   "source": [
    "%%bash\n",
    "\n",
    "script_dir=\"/clusterfs/nilah/pooja/batch_scripts/train\"\n",
    "\n",
    "imbalance_dir=\"/clusterfs/nilah/pooja/immune_atlas/allelic_imbalance/data/cluster_imbalance_sets\"\n",
    "genome=\"hg19\"\n",
    "targets=\"/clusterfs/nilah/pooja/immune_atlas/targets.txt\"\n",
    "model=\"8x_params_same_layers\"\n",
    "\n",
    "for rep in 2 3;\n",
    "do\n",
    "    model_params=\"/clusterfs/nilah/pooja/immune_atlas/models/params_sc_kidney_regression_multitask_${model}.json\"\n",
    "    model_dir=\"/clusterfs/nilah/pooja/immune_atlas/train/replicate_models/train__multitask_${model}__all_sequences__${rep}\"\n",
    "\n",
    "    cp ${script_dir}/train_immune_atlas_single_task_template.sh ${script_dir}/test_immune_atlas_multitask_${model}_${rep}.sh\n",
    "    echo \"/global/home/users/poojakathail/basenji/bin/basenji_predict_allelic_imbalance.sh $imbalance_dir $genome $targets $model_params ${model_dir}/done.txt ${model_dir}/allelic_imbalance/done_allelic_imbalance.txt\" >> ${script_dir}/test_immune_atlas_multitask_${model}_${rep}.sh\n",
    "    echo \"python /global/home/users/poojakathail/basenji/bin/basenji_allelic_imbalance_by_cluster.py -t $targets -i ${imbalance_dir} ${model_dir}/allelic_imbalance/allelic_imbalance_by_cluster.xlsx\" >> ${script_dir}/test_immune_atlas_multitask_${model}_${rep}.sh\n",
    "\n",
    "    sbatch ${script_dir}/test_immune_atlas_multitask_${model}_${rep}.sh\n",
    "done"
   ]
  },
  {
   "cell_type": "markdown",
   "id": "e886c839-2356-4b9f-bfd5-d4a28daecfcb",
   "metadata": {},
   "source": [
    "### Results"
   ]
  },
  {
   "cell_type": "markdown",
   "id": "c0d7c03b-79ed-402a-9168-8c39510abea7",
   "metadata": {},
   "source": [
    "Loeb et al."
   ]
  },
  {
   "cell_type": "code",
   "execution_count": 4,
   "id": "8e3e4f8c-8b17-46f5-ad7b-dd10c6b566d5",
   "metadata": {},
   "outputs": [],
   "source": [
    "data_dir = \"/clusterfs/nilah/pooja/kidney_data\"\n",
    "fig_dir = \"/clusterfs/nilah/pooja/CellTypeSpecificAccessibilityPrediction/figures\"\n",
    "\n",
    "targets = pd.read_csv(f\"{data_dir}/targets.txt\", sep=\"\\t\", header=0, index_col=0)\n",
    "cell_types = targets[\"identifier\"].values\n",
    "\n",
    "cell_type_peak_set_mapping = {\"PT\": [\"cluster11_PT\", \"cluster3_Ubiquitous\", \"all_sequences\"],\n",
    "                              \"DT\": [\"cluster4_DistalNephron\", \"cluster3_Ubiquitous\", \"all_sequences\"],\n",
    "                              \"LOH\": [\"cluster4_DistalNephron\", \"cluster3_Ubiquitous\", \"all_sequences\"],\n",
    "                              \"Str\": [\"cluster9_Stroma\", \"cluster3_Ubiquitous\", \"all_sequences\"],}\n",
    "\n",
    "\n",
    "tasks = [\"single_task\", \"multitask\", \"multitask_2x_params_more_layers\", \n",
    "         \"multitask_2x_params_same_layers\", \"multitask_4x_params_same_layers\",  \"multitask_8x_params_same_layers\"]\n",
    "training_sets = [\"all_sequences\"]"
   ]
  },
  {
   "cell_type": "code",
   "execution_count": 5,
   "id": "ac2ce946-d5f1-4fb2-b247-3c9d10a9b41f",
   "metadata": {},
   "outputs": [],
   "source": [
    "# reference accuracy\n",
    "ref_acc_by_cluster_replicates = read_reference_accuracy_replicates(data_dir, cell_type_peak_set_mapping.keys(), \n",
    "                                                                   tasks, training_sets)\n",
    "formatted_df = format_df_to_plot(ref_acc_by_cluster_replicates, cell_type_peak_set_mapping,\n",
    "                                 tasks, training_sets)\n",
    "formatted_df.loc[~formatted_df[\"Cluster\"].isin(['cluster3_Ubiquitous', 'all_sequences']), \n",
    "                 \"Cluster\"] = \"Cell-type specific\"\n",
    "\n",
    "formatted_df[\"Number of parameters\"] = np.nan\n",
    "for training_task in formatted_df[\"Training Task\"].unique():  \n",
    "    if training_task == \"multitask\":\n",
    "        formatted_df.loc[formatted_df[\"Training Task\"] == training_task, \"Number of parameters\"] = 5_842_034\n",
    "    elif \"2x_params_same_layers\" in training_task:\n",
    "        formatted_df.loc[formatted_df[\"Training Task\"] == training_task, \"Number of parameters\"] = 11_748_288\n",
    "    elif \"4x_params_same_layers\" in training_task:\n",
    "        formatted_df.loc[formatted_df[\"Training Task\"] == training_task, \"Number of parameters\"] = 23_418_668\n",
    "    elif \"8x_params_same_layers\" in training_task:\n",
    "        formatted_df.loc[formatted_df[\"Training Task\"] == training_task, \"Number of parameters\"] = 48_406_668"
   ]
  },
  {
   "cell_type": "code",
   "execution_count": 53,
   "id": "370569bd-88de-4f31-a8e3-49ebd081a5ea",
   "metadata": {
    "scrolled": true,
    "tags": []
   },
   "outputs": [
    {
     "data": {
      "image/png": "[encoded data removed]",
      "text/plain": [
       "<Figure size 1440x864 with 12 Axes>"
      ]
     },
     "metadata": {
      "needs_background": "light"
     },
     "output_type": "display_data"
    }
   ],
   "source": [
    "cmap = plt.get_cmap(\"tab20\")\n",
    "cluster_labels = [\"cell type specific peaks\", \"ubiquitous peaks\", \"all sequences\"]\n",
    "cell_types = [\"Loop of Henle\", \"Proximal Tubule\", \"Distal Tubule\", \"Stroma\"]\n",
    "colors = [[cmap(0), cmap(1)], [cmap(2), cmap(3)], [cmap(14), cmap(15)]]\n",
    "\n",
    "fig, ax = plt.subplots(3, 4, figsize=(20, 12))\n",
    "for i, cluster in enumerate([\"Cell-type specific\",  \"cluster3_Ubiquitous\", \"all_sequences\"]):\n",
    "    \n",
    "    for j, cell_type in enumerate([\"LOH\", \"PT\", \"DT\", \"Str\"]):\n",
    "        \n",
    "        tmp_df = formatted_df[(formatted_df[\"Training Data\"] == \"all_sequences\") &\n",
    "                 (formatted_df[\"Cluster\"] == cluster) & \n",
    "                 (~formatted_df[\"Number of parameters\"].isna()) &\n",
    "                 (formatted_df[\"Cell Type\"] == cell_type)].groupby(\"Number of parameters\").median()\n",
    "        ax[i, j].plot(tmp_df.index.values, tmp_df[\"Pearson R\"].values, 'o-', label=cell_type, color=colors[i][0])\n",
    "\n",
    "    \n",
    "        single_task_tmp_df = formatted_df[(formatted_df[\"Training Data\"] == \"all_sequences\") &\n",
    "                 (formatted_df[\"Cluster\"] == cluster) & \n",
    "                 (formatted_df[\"Cell Type\"] == cell_type) &\n",
    "                 (formatted_df[\"Training Task\"] == \"single_task\")]\n",
    "    \n",
    "        ax[i, j].hlines(np.median(single_task_tmp_df[\"Pearson R\"]), xmin=ax[i, j].get_xlim()[0], xmax=ax[i, j].get_xlim()[1],\n",
    "                    linestyle=\"--\", color=colors[i][1])\n",
    "        if j == 0:\n",
    "            ax[i, j].set_ylabel(f\"Pearson R for {cluster_labels[i]}\" ,fontsize=12)\n",
    "        if i == 0:\n",
    "            ax[i,j].set_title(cell_types[j])\n",
    "        if i == 2:\n",
    "            ax[i,j].set_xlabel(\"Number of model parameters\")\n",
    "        else:\n",
    "            ax[i,j].set_xticklabels([])\n",
    "        \n",
    "        ax[i,j].set_xlim(formatted_df[\"Number of parameters\"].min() - 1e6, formatted_df[\"Number of parameters\"].max()+1e6)\n",
    "        ax[i,j].set_ylim(0.2, 0.8)\n",
    "sns.despine()\n",
    "plt.savefig(f\"{fig_dir}/supp_figs/loeb_et_al_model_capacity.pdf\", dpi=300)"
   ]
  },
  {
   "cell_type": "markdown",
   "id": "67227165-17c7-4dd0-8ae3-eaf86936ed7c",
   "metadata": {},
   "source": [
    "Calderon et al."
   ]
  },
  {
   "cell_type": "code",
   "execution_count": 63,
   "id": "ed8d8412-f70a-4e8f-926b-0f2373fd7ba0",
   "metadata": {},
   "outputs": [],
   "source": [
    "data_dir = \"/clusterfs/nilah/pooja/immune_atlas\"\n",
    "fig_dir = \"/clusterfs/nilah/pooja/CellTypeSpecificAccessibilityPrediction/figures\"\n",
    "\n",
    "targets = pd.read_csv(f\"{data_dir}/targets.txt\", sep=\"\\t\", header=0, index_col=0)\n",
    "cell_types = targets[\"identifier\"].values\n",
    "\n",
    "cell_type_peak_set_mapping = {\"Bnaive\": [\"cluster_B_resting\", \"cluster_open\", \"all_sequences\"],\n",
    "                              \"Bbulk\": [\"cluster_B_resting\", \"cluster_open\", \"all_sequences\"],\n",
    "                              \"NKim\": [\"cluster_nk_resting\", \"cluster_open\", \"all_sequences\"],\n",
    "                              \"NKma\": [\"cluster_nk_resting\", \"cluster_open\", \"all_sequences\"],\n",
    "                              \"DCmye\": [\"cluster_myeloid_resting\", \"cluster_open\", \"all_sequences\"],\n",
    "                              \"pDC\": [\"cluster_nk_resting\", \"cluster_open\", \"all_sequences\"],\n",
    "                              \"TCD8\": [\"cluster_T_resting\", \"cluster_open\", \"all_sequences\"],\n",
    "                              \"TCD8EM\": [\"cluster_T_resting\", \"cluster_open\", \"all_sequences\"]}\n",
    "\n",
    "\n",
    "tasks = [\"single_task\", \"multitask\", \"multitask_2x_params_more_layers\", \n",
    "         \"multitask_2x_params_same_layers\", \"multitask_4x_params_same_layers\", \"multitask_8x_params_same_layers\"]\n",
    "training_sets = [\"all_sequences\"]"
   ]
  },
  {
   "cell_type": "code",
   "execution_count": 64,
   "id": "735bc3a0-f45b-44da-8477-f82ff5d3dd93",
   "metadata": {},
   "outputs": [],
   "source": [
    "# reference accuracy\n",
    "ref_acc_by_cluster_replicates = read_reference_accuracy_replicates(data_dir, cell_type_peak_set_mapping.keys(), \n",
    "                                                                   tasks, training_sets)\n",
    "formatted_df = format_df_to_plot(ref_acc_by_cluster_replicates, cell_type_peak_set_mapping,\n",
    "                                 tasks, training_sets)\n",
    "formatted_df.loc[~formatted_df[\"Cluster\"].isin(['cluster_open', 'all_sequences']), \n",
    "                 \"Cluster\"] = \"Cell-type specific\"\n",
    "\n",
    "formatted_df[\"Number of parameters\"] = np.nan\n",
    "for training_task in formatted_df[\"Training Task\"].unique():  \n",
    "    if training_task == \"multitask\":\n",
    "        formatted_df.loc[formatted_df[\"Training Task\"] == training_task, \"Number of parameters\"] = 5_842_034\n",
    "    elif \"2x_params_same_layers\" in training_task:\n",
    "        formatted_df.loc[formatted_df[\"Training Task\"] == training_task, \"Number of parameters\"] = 11_748_288\n",
    "    elif \"4x_params_same_layers\" in training_task:\n",
    "        formatted_df.loc[formatted_df[\"Training Task\"] == training_task, \"Number of parameters\"] = 23_418_668\n",
    "    elif \"8x_params_same_layers\" in training_task:\n",
    "        formatted_df.loc[formatted_df[\"Training Task\"] == training_task, \"Number of parameters\"] = 48_406_668"
   ]
  },
  {
   "cell_type": "code",
   "execution_count": 66,
   "id": "2e7aaae9-de6d-4ed0-9d13-e72fb220182a",
   "metadata": {},
   "outputs": [
    {
     "data": {
      "image/png": "[encoded data removed]",
      "text/plain": [
       "<Figure size 1080x864 with 9 Axes>"
      ]
     },
     "metadata": {
      "needs_background": "light"
     },
     "output_type": "display_data"
    }
   ],
   "source": [
    "cmap = plt.get_cmap(\"tab20\")\n",
    "cluster_labels = [\"cell type specific peaks\", \"ubiquitous peaks\", \"all sequences\"]\n",
    "cell_types = [\"Loop of Henle\", \"Proximal Tubule\", \"Distal Tubule\", \"Stroma\"]\n",
    "colors = [[cmap(0), cmap(1)], [cmap(2), cmap(3)], [cmap(14), cmap(15)]]\n",
    "\n",
    "fig, ax = plt.subplots(3, 3, figsize=(15, 12))\n",
    "for i, cluster in enumerate([\"Cell-type specific\",  \"cluster_open\", \"all_sequences\"]):\n",
    "    \n",
    "    for j, cell_type in enumerate([\"DCmye\", \"NKim\", \"TCD8EM\"]):\n",
    "        \n",
    "        tmp_df = formatted_df[(formatted_df[\"Training Data\"] == \"all_sequences\") &\n",
    "                 (formatted_df[\"Cluster\"] == cluster) & \n",
    "                 (~formatted_df[\"Number of parameters\"].isna()) &\n",
    "                 (formatted_df[\"Cell Type\"] == cell_type)].groupby(\"Number of parameters\").median()\n",
    "        ax[i, j].plot(tmp_df.index.values, tmp_df[\"Pearson R\"].values, 'o-', label=cell_type, color=colors[i][0])\n",
    "\n",
    "    \n",
    "        single_task_tmp_df = formatted_df[(formatted_df[\"Training Data\"] == \"all_sequences\") &\n",
    "                 (formatted_df[\"Cluster\"] == cluster) & \n",
    "                 (formatted_df[\"Cell Type\"] == cell_type) &\n",
    "                 (formatted_df[\"Training Task\"] == \"single_task\")]\n",
    "    \n",
    "        # plt.fill_between(plt.xlim(), np.median(single_task_tmp_df[\"Pearson R\"]) - np.std(single_task_tmp_df[\"Pearson R\"]), \n",
    "        #             np.median(single_task_tmp_df[\"Pearson R\"]) + np.std(single_task_tmp_df[\"Pearson R\"]),\n",
    "        #             alpha=0.3)\n",
    "        ax[i, j].hlines(np.median(single_task_tmp_df[\"Pearson R\"]), xmin=ax[i, j].get_xlim()[0], xmax=ax[i, j].get_xlim()[1],\n",
    "                    linestyle=\"--\", color=colors[i][1])\n",
    "        if j == 0:\n",
    "            ax[i, j].set_ylabel(f\"Pearson R for {cluster_labels[i]}\" ,fontsize=12)\n",
    "        if i == 0:\n",
    "            ax[i,j].set_title(cell_type)\n",
    "        if i == 2:\n",
    "            ax[i,j].set_xlabel(\"Number of model parameters\")\n",
    "        else:\n",
    "            ax[i,j].set_xticklabels([])\n",
    "        \n",
    "        ax[i,j].set_xlim(formatted_df[\"Number of parameters\"].min() - 1e6, formatted_df[\"Number of parameters\"].max()+1e6)\n",
    "        ax[i,j].set_ylim(0.2, 0.8)\n",
    "sns.despine()\n",
    "plt.savefig(f\"{fig_dir}/supp_figs/calderon_et_al_model_capacity.pdf\", dpi=300)"
   ]
  },
  {
   "cell_type": "code",
   "execution_count": null,
   "id": "605845bb-e56c-45d1-b424-0547e9af9050",
   "metadata": {},
   "outputs": [],
   "source": []
  }
 ],
 "metadata": {
  "kernelspec": {
   "display_name": "Python3.7 TF-2.1.0",
   "language": "python",
   "name": "python3.7-tf2.1"
  },
  "language_info": {
   "codemirror_mode": {
    "name": "ipython",
    "version": 3
   },
   "file_extension": ".py",
   "mimetype": "text/x-python",
   "name": "python",
   "nbconvert_exporter": "python",
   "pygments_lexer": "ipython3",
   "version": "3.7.4"
  }
 },
 "nbformat": 4,
 "nbformat_minor": 5
}
