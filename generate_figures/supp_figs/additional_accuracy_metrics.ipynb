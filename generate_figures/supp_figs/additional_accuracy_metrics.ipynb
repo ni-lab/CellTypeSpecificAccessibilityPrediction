{
 "cells": [
  {
   "cell_type": "code",
   "execution_count": 1,
   "id": "cd237806-9a1d-493d-afdc-00997af0e5ca",
   "metadata": {},
   "outputs": [],
   "source": [
    "%load_ext autoreload\n",
    "%autoreload 2"
   ]
  },
  {
   "cell_type": "code",
   "execution_count": 2,
   "id": "e9caa3d3-65e7-4fc4-9bc0-1f9a76c8dd97",
   "metadata": {},
   "outputs": [],
   "source": [
    "import sys\n",
    "sys.path.append(\"../..\")\n",
    "\n",
    "import numpy as np\n",
    "import pandas as pd\n",
    "import matplotlib.pyplot as plt\n",
    "import seaborn as sns\n",
    "from utils.evaluate_basset_performance import *\n",
    "from utils.call_peaks import call_peaks\n",
    "import pyranges as pr\n",
    "from functools import partial"
   ]
  },
  {
   "cell_type": "markdown",
   "id": "1a7a5c2e-a08e-4d5e-b098-10020de356d8",
   "metadata": {},
   "source": [
    "Compute additional accuracy metrics"
   ]
  },
  {
   "cell_type": "markdown",
   "id": "079bbb59-0d0a-4b30-b5f2-8fdd8d90772b",
   "metadata": {
    "tags": []
   },
   "source": [
    "## 1. False positives / false negatives"
   ]
  },
  {
   "cell_type": "markdown",
   "id": "7d9681aa-9414-4870-8cfb-84e3e05300fb",
   "metadata": {},
   "source": [
    "### Loeb et al."
   ]
  },
  {
   "cell_type": "code",
   "execution_count": 3,
   "id": "a5e5eed5-84b0-4c8f-b7d2-52d536e261cc",
   "metadata": {},
   "outputs": [],
   "source": [
    "data_dir = \"/clusterfs/nilah/pooja/kidney_data\"\n",
    "fig_dir = \"/clusterfs/nilah/pooja/CellTypeSpecificAccessibilityPrediction/figures\"\n",
    "clusters_dir = f\"{data_dir}/CellTypeSpecificPeakClusters_ArchR_clust11\"\n",
    "targets_dir = f\"{clusters_dir}/model_predictions\"\n",
    "models_dir = f\"{data_dir}/train/replicate_models\""
   ]
  },
  {
   "cell_type": "code",
   "execution_count": 4,
   "id": "9762a1d2-bce4-4280-8e51-646dd96f81f5",
   "metadata": {},
   "outputs": [],
   "source": [
    "multitask_model = f\"{models_dir}/train__multitask__all_sequences__1\"\n",
    "single_task_model = models_dir + \"/train__single_task__{cell_type}__all_sequences__1\"\n",
    "\n",
    "targets = pd.read_csv(f\"{data_dir}/targets.txt\", sep=\"\\t\", header=0, index_col=0)\n",
    "cell_types = targets[\"identifier\"].values\n",
    "\n",
    "cell_type_peak_set_mapping = {\"PT\": [\"cluster11_PT\", \"cluster6_PanTubule\", \"cluster3_Ubiquitous\"],\n",
    "                             \"DT\": [\"cluster4_DistalNephron\", \"cluster6_PanTubule\", \"cluster3_Ubiquitous\"],\n",
    "                             \"LOH\": [\"cluster4_DistalNephron\", \"cluster6_PanTubule\", \"cluster3_Ubiquitous\"],\n",
    "                             \"Str\": [\"cluster9_Stroma\", \"cluster8_PanNonEpithelial\", \"cluster3_Ubiquitous\"]}\n",
    "\n",
    "model_preds = {\"Multi-task predictions\": read_multi_task_targets_predictions(multitask_model, \n",
    "                                                                 targets_dir, [\"all_sequences\"], cell_types),\n",
    "               \"Single-task predictions\": read_single_task_targets_predictions(single_task_model,\n",
    "                                                                   targets_dir, [\"all_sequences\"],\n",
    "                                                                    cell_type_peak_set_mapping.keys())}"
   ]
  },
  {
   "cell_type": "code",
   "execution_count": 5,
   "id": "6187b2e9-8e88-480c-81ab-ec9d3474bd51",
   "metadata": {},
   "outputs": [],
   "source": [
    "# annotate prediction bins with peak types\n",
    "all_sequences = pr.read_bed(f\"{clusters_dir}/all_sequences_test_chrs.bed\")\n",
    "all_sequences = all_sequences.subsequence(start=576, end=768)\n",
    "all_sequences.Index = all_sequences.df.index.values\n",
    "\n",
    "\n",
    "for cell_type, clusters in cell_type_peak_set_mapping.items():\n",
    "    for cluster in clusters:\n",
    "        if cluster not in all_sequences.columns:\n",
    "            cluster_peaks = pr.read_bed(f\"{clusters_dir}/{cluster}_test_chrs.bed\")\n",
    "            cluster_col = np.zeros(len(all_sequences))\n",
    "            cluster_peaks_overlap = all_sequences.overlap(cluster_peaks, how=\"containment\").Index.values\n",
    "            cluster_col[cluster_peaks_overlap] = 1\n",
    "            setattr(all_sequences, cluster, cluster_col)\n",
    "    setattr(all_sequences, f\"{cell_type} Peaks\", all_sequences.df[clusters].sum(axis=1) > 0)\n",
    "\n",
    "all_peaks = pr.read_bed(f\"{clusters_dir}/all_peaks.bed\")\n",
    "all_peaks_col = np.zeros(len(all_sequences))\n",
    "all_peaks_overlap = all_sequences.overlap(all_peaks, how=\"containment\").Index.values\n",
    "all_peaks_col[all_peaks_overlap] = 1\n",
    "setattr(all_sequences, \"All peaks\", all_peaks_col) \n",
    "\n",
    "all_sequences = all_sequences.df"
   ]
  },
  {
   "cell_type": "code",
   "execution_count": 6,
   "id": "0528db18-92f6-4822-b29d-e9b89e1c6a45",
   "metadata": {},
   "outputs": [],
   "source": [
    "# call peaks on predictions\n",
    "for i, cell_type in enumerate(cell_type_peak_set_mapping.keys()):\n",
    "    for j, tasks in enumerate([\"Multi-task\", \"Single-task\"]):\n",
    "        targets = model_preds[f\"{tasks} predictions\"][\"all_sequences\"][f\"{cell_type}_pred\"].values\n",
    "        targets_peaks = call_peaks(targets.reshape(-1,1), return_full=True, fdr=0.05).flatten()\n",
    "        all_sequences[f\"{tasks} {cell_type} predicted Peaks\"] = targets_peaks"
   ]
  },
  {
   "cell_type": "code",
   "execution_count": 7,
   "id": "fa086845-c665-47f7-bd7e-474072d35552",
   "metadata": {},
   "outputs": [],
   "source": [
    "error_df = compute_false_positive_false_negative_error_rates(all_sequences, cell_type_peak_set_mapping, \"cluster3_Ubiquitous\")"
   ]
  },
  {
   "cell_type": "code",
   "execution_count": 92,
   "id": "1287e426-3fee-48b2-8612-bdc97bf31c47",
   "metadata": {
    "scrolled": true,
    "tags": []
   },
   "outputs": [
    {
     "data": {
      "image/png": "[encoded data removed]",
      "text/plain": [
       "<Figure size 576x288 with 2 Axes>"
      ]
     },
     "metadata": {
      "needs_background": "light"
     },
     "output_type": "display_data"
    }
   ],
   "source": [
    "cmap = plt.get_cmap(\"tab20\")\n",
    "fig, ax = plt.subplots(1, 2, figsize=(8,4))\n",
    "\n",
    "sns.barplot(data=error_df[~error_df[\"Cluster\"].isin([\"All sequences\", \"All peaks\", \"cluster6_PanTubule\", \"cluster8_PanNonEpithelial\"])], \n",
    "            x=\"Cell Type\", y=\"False negative rate\", hue=\"Tasks\",\n",
    "            hue_order=[\"Multi-task, Cell type specific peaks\", \"Single-task, Cell type specific peaks\",\n",
    "                       \"Multi-task, Ubiquitous peaks\", \"Single-task, Ubiquitous peaks\"],\n",
    "            palette=\"tab20\", order=[\"LOH\", \"PT\", \"DT\", \"Str\"], ax=ax[0])\n",
    "\n",
    "\n",
    "ax[0].legend(loc=\"upper left\")\n",
    "ax[0].set_ylabel(\"False negative rate\")\n",
    "ax[0].set_title(\"False negative peaks\", fontsize=14)\n",
    "ax[0].set_ylim(0, 0.65)\n",
    "\n",
    "cluster = \"All peaks\"\n",
    "sns.barplot(data=error_df[error_df[\"Cluster\"] == cluster], x=\"Cell Type\", y=\"False positive rate\", hue=\"Tasks\",\n",
    "            palette=[cmap(0), cmap(1)], order=[\"LOH\", \"PT\", \"DT\", \"Str\"], ax=ax[1])\n",
    "ax[1].set_title(\"False positive peaks\", fontsize=14)\n",
    "ax[1].legend(loc=\"upper left\")\n",
    "ax[1].set_ylim(0, 0.65)\n",
    "\n",
    "plt.tight_layout()\n",
    "plt.savefig(f\"{fig_dir}/supp_figs/loeb_et_al_false_negatives_false_positives.pdf\", dpi=300)"
   ]
  },
  {
   "cell_type": "code",
   "execution_count": 8,
   "id": "7a5255eb-97d4-49a7-acf2-82ce5907fb9b",
   "metadata": {},
   "outputs": [],
   "source": [
    "for peak_cell_type, other_cell_type in [(\"Str\", \"PT\"), (\"PT\", \"Str\")]:\n",
    "    sampled_seqs = all_sequences[(all_sequences[f\"All peaks\"] > 0) &\n",
    "                  (all_sequences[f\"{peak_cell_type} Peaks\"]) &\n",
    "                  (~all_sequences[f\"{other_cell_type} Peaks\"]) &\n",
    "                  (all_sequences[f\"Multi-task {peak_cell_type} predicted Peaks\"]) &\n",
    "                  (all_sequences[f\"Single-task {peak_cell_type} predicted Peaks\"]) &\n",
    "                  (all_sequences[f\"Multi-task {other_cell_type} predicted Peaks\"]) &\n",
    "                  (~all_sequences[f\"Single-task {other_cell_type} predicted Peaks\"])].sample(1000, replace=False)\n",
    "\n",
    "    sampled_seqs[[\"Chromosome\", \"Start\", \"End\", \"Index\"]].to_csv(\n",
    "        f\"{clusters_dir}/{peak_cell_type}_peaks_multitask_false_positive_in_{other_cell_type}_1000_seqs.bed\",\n",
    "        sep=\"\\t\", header=False, index=False)"
   ]
  },
  {
   "cell_type": "markdown",
   "id": "cab25f85-fd43-49cc-865c-1bc302d1d24a",
   "metadata": {
    "tags": []
   },
   "source": [
    "### Calderon et al."
   ]
  },
  {
   "cell_type": "code",
   "execution_count": 12,
   "id": "4a8b5ada-538b-413f-a179-69a2ad0a7b8f",
   "metadata": {},
   "outputs": [],
   "source": [
    "data_dir = \"/clusterfs/nilah/pooja/immune_atlas\"\n",
    "fig_dir = \"/clusterfs/nilah/pooja/CellTypeSpecificAccessibilityPrediction/figures\"\n",
    "clusters_dir = f\"{data_dir}/CellTypeSpecificPeakClusters\"\n",
    "targets_dir = f\"{clusters_dir}/model_predictions\"\n",
    "models_dir = f\"{data_dir}/train/replicate_models\""
   ]
  },
  {
   "cell_type": "code",
   "execution_count": 13,
   "id": "54779d54-fdc9-4d27-aa8a-9a57f83a3e81",
   "metadata": {},
   "outputs": [],
   "source": [
    "multitask_model = f\"{models_dir}/train__multitask__all_sequences__1\"\n",
    "single_task_model = models_dir + \"/train__single_task__{cell_type}__all_sequences__1\"\n",
    "\n",
    "targets = pd.read_csv(f\"{data_dir}/targets.txt\", sep=\"\\t\", header=0, index_col=0)\n",
    "cell_types = targets[\"identifier\"].values\n",
    "\n",
    "cell_type_peak_set_mapping = {\"DCmye\": [\"cluster_myeloid_resting\", \"cluster_open\"],\n",
    "                             \"NKim\": [\"cluster_nk_resting\", \"cluster_open\"],\n",
    "                             \"TCD8EM\": [\"cluster_T_resting\", \"cluster_open\"]}\n",
    "\n",
    "model_preds = {\"Multi-task predictions\": read_multi_task_targets_predictions(multitask_model, \n",
    "                                                                 targets_dir, [\"all_sequences\"], cell_types),\n",
    "               \"Single-task predictions\": read_single_task_targets_predictions(single_task_model,\n",
    "                                                                   targets_dir, [\"all_sequences\"],\n",
    "                                                                    cell_type_peak_set_mapping.keys())}"
   ]
  },
  {
   "cell_type": "code",
   "execution_count": 14,
   "id": "1f6ec852-91d6-406d-bc82-5370f9782ab5",
   "metadata": {},
   "outputs": [],
   "source": [
    "# annotate prediction bins with peak types\n",
    "all_sequences = pr.read_bed(f\"{clusters_dir}/all_sequences_test_chrs.bed\")\n",
    "all_sequences = all_sequences.subsequence(start=576, end=768)\n",
    "all_sequences.Index = all_sequences.df.index.values\n",
    "\n",
    "\n",
    "for cell_type, clusters in cell_type_peak_set_mapping.items():\n",
    "    for cluster in clusters:\n",
    "        if cluster not in all_sequences.columns:\n",
    "            cluster_peaks = pr.read_bed(f\"{clusters_dir}/{cluster}_test_chrs.bed\")\n",
    "            cluster_col = np.zeros(len(all_sequences))\n",
    "            cluster_peaks_overlap = all_sequences.overlap(cluster_peaks, how=\"containment\").Index.values\n",
    "            cluster_col[cluster_peaks_overlap] = 1\n",
    "            setattr(all_sequences, cluster, cluster_col)\n",
    "    setattr(all_sequences, f\"{cell_type} Peaks\", all_sequences.df[clusters].sum(axis=1) > 0)\n",
    "\n",
    "all_peaks = pr.read_bed(f\"{clusters_dir}/immune_atlas_all_peaks.bed\")\n",
    "all_peaks_col = np.zeros(len(all_sequences))\n",
    "all_peaks_overlap = all_sequences.overlap(all_peaks, how=\"containment\").Index.values\n",
    "all_peaks_col[all_peaks_overlap] = 1\n",
    "setattr(all_sequences, \"All peaks\", all_peaks_col) \n",
    "\n",
    "all_sequences = all_sequences.df"
   ]
  },
  {
   "cell_type": "code",
   "execution_count": 15,
   "id": "558c8cbc-6117-4338-bd1a-46e53a088cd8",
   "metadata": {},
   "outputs": [],
   "source": [
    "# call peaks on predictions\n",
    "for i, cell_type in enumerate(cell_type_peak_set_mapping.keys()):\n",
    "    for j, tasks in enumerate([\"Multi-task\", \"Single-task\"]):\n",
    "        targets = model_preds[f\"{tasks} predictions\"][\"all_sequences\"][f\"{cell_type}_pred\"].values\n",
    "        targets_peaks = call_peaks(targets.reshape(-1,1), return_full=True, fdr=0.05).flatten()\n",
    "        all_sequences[f\"{tasks} {cell_type} predicted Peaks\"] = targets_peaks"
   ]
  },
  {
   "cell_type": "code",
   "execution_count": 16,
   "id": "766ba245-9bee-4876-b2a8-2969c8e48390",
   "metadata": {},
   "outputs": [],
   "source": [
    "error_df = compute_false_positive_false_negative_error_rates(all_sequences, cell_type_peak_set_mapping, \"cluster_open\")"
   ]
  },
  {
   "cell_type": "code",
   "execution_count": 98,
   "id": "80c6964f-5cac-45f6-ab9f-5277910cb051",
   "metadata": {},
   "outputs": [
    {
     "data": {
      "image/png": "[encoded data removed]",
      "text/plain": [
       "<Figure size 576x288 with 2 Axes>"
      ]
     },
     "metadata": {
      "needs_background": "light"
     },
     "output_type": "display_data"
    }
   ],
   "source": [
    "cmap = plt.get_cmap(\"tab20\")\n",
    "fig, ax = plt.subplots(1, 2, figsize=(8,4))\n",
    "\n",
    "sns.barplot(data=error_df[~error_df[\"Cluster\"].isin([\"All sequences\", \"All peaks\"])], \n",
    "            x=\"Cell Type\", y=\"False negative rate\", hue=\"Tasks\",\n",
    "            hue_order=[\"Multi-task, Cell type specific peaks\", \"Single-task, Cell type specific peaks\",\n",
    "                       \"Multi-task, Ubiquitous peaks\", \"Single-task, Ubiquitous peaks\"],\n",
    "            palette=\"tab20\", order=[\"DCmye\", \"NKim\", \"TCD8EM\"], ax=ax[0])\n",
    "\n",
    "\n",
    "ax[0].legend(loc=\"upper left\")\n",
    "ax[0].set_ylabel(\"False negative rate\")\n",
    "ax[0].set_title(\"False negative peaks\", fontsize=14)\n",
    "ax[0].set_ylim(0, 1.25)\n",
    "\n",
    "cluster = \"All peaks\"\n",
    "sns.barplot(data=error_df[error_df[\"Cluster\"] == cluster], x=\"Cell Type\", y=\"False positive rate\", hue=\"Tasks\",\n",
    "            palette=[cmap(0), cmap(1)], order=[\"DCmye\", \"NKim\", \"TCD8EM\"], ax=ax[1])\n",
    "ax[1].set_title(\"False positive peaks\", fontsize=14)\n",
    "ax[1].legend(loc=\"upper left\")\n",
    "ax[1].set_ylim(0, 1.25)\n",
    "\n",
    "plt.tight_layout()\n",
    "plt.savefig(f\"{fig_dir}/supp_figs/calderon_et_al_false_negatives_false_positives.pdf\", dpi=300)"
   ]
  },
  {
   "cell_type": "code",
   "execution_count": 16,
   "id": "3bd9d458-50f4-4ac7-a1c9-0547962f54d0",
   "metadata": {},
   "outputs": [
    {
     "name": "stdout",
     "output_type": "stream",
     "text": [
      "(334, 18)\n",
      "(173, 18)\n"
     ]
    }
   ],
   "source": [
    "for peak_cell_type, other_cell_type in [(\"DCmye\", \"TCD8EM\"), (\"TCD8EM\", \"DCmye\")]:    \n",
    "    sampled_seqs = all_sequences[(all_sequences[f\"All peaks\"] > 0) &\n",
    "                  (all_sequences[f\"{peak_cell_type} Peaks\"]) &\n",
    "                  (~all_sequences[f\"{other_cell_type} Peaks\"]) &\n",
    "                  (all_sequences[f\"Multi-task {peak_cell_type} predicted Peaks\"]) &\n",
    "                  (all_sequences[f\"Single-task {peak_cell_type} predicted Peaks\"]) &\n",
    "                  (all_sequences[f\"Multi-task {other_cell_type} predicted Peaks\"]) &\n",
    "                  (~all_sequences[f\"Single-task {other_cell_type} predicted Peaks\"])]\n",
    "\n",
    "    sampled_seqs[[\"Chromosome\", \"Start\", \"End\", \"Index\"]].to_csv(\n",
    "        f\"{clusters_dir}/{peak_cell_type}_peaks_multitask_false_positive_in_{other_cell_type}_all.bed\",\n",
    "        sep=\"\\t\", header=False, index=False)"
   ]
  }
 ],
 "metadata": {
  "kernelspec": {
   "display_name": "Python3.7 TF-2.1.0",
   "language": "python",
   "name": "python3.7-tf2.1"
  },
  "language_info": {
   "codemirror_mode": {
    "name": "ipython",
    "version": 3
   },
   "file_extension": ".py",
   "mimetype": "text/x-python",
   "name": "python",
   "nbconvert_exporter": "python",
   "pygments_lexer": "ipython3",
   "version": "3.7.4"
  }
 },
 "nbformat": 4,
 "nbformat_minor": 5
}
